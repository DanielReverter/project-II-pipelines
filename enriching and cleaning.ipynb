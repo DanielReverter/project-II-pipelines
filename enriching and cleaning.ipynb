{
 "cells": [
  {
   "cell_type": "code",
   "execution_count": 1,
   "id": "b3548826",
   "metadata": {},
   "outputs": [],
   "source": [
    "import pandas as pd\n",
    "import requests\n",
    "from bs4 import BeautifulSoup\n",
    "import pandas as pd\n",
    "import requests\n",
    "import re\n",
    "import sys\n",
    "sys.path.append(r\"src\")\n",
    "from cleaning import*"
   ]
  },
  {
   "cell_type": "code",
   "execution_count": 2,
   "id": "cc6e13e3",
   "metadata": {},
   "outputs": [],
   "source": [
    "# We don't want any pandas warnings because we're reckless :^)\n",
    "pd.options.mode.chained_assignment = None"
   ]
  },
  {
   "cell_type": "code",
   "execution_count": 3,
   "id": "f0d8dc8d",
   "metadata": {},
   "outputs": [],
   "source": [
    "# I get the initial dataframe from Kaggle, it's a list of the top 200 rated players in chess: \n",
    "# their name, rating(ELO), birth year and federation\n",
    "df = pd.read_csv('Input/Fide_Rankings.csv')"
   ]
  },
  {
   "cell_type": "code",
   "execution_count": 4,
   "id": "b03361fa",
   "metadata": {},
   "outputs": [],
   "source": [
    "# Cleaning spaces in column names\n",
    "df = df.rename(columns={'name ':'name', 'federation ' :'federation', 'ELO ':'ELO'})"
   ]
  },
  {
   "cell_type": "code",
   "execution_count": 5,
   "id": "a7ad3ede",
   "metadata": {},
   "outputs": [],
   "source": [
    "# Cleaning spaces of all the names in the name column\n",
    "df[\"name\"] = df[\"name\"].apply(strip)"
   ]
  },
  {
   "cell_type": "code",
   "execution_count": 6,
   "id": "a02abb14",
   "metadata": {
    "scrolled": false
   },
   "outputs": [],
   "source": [
    "# Calculating current age (actually age at the end of 2022) and writing it in a new column \"age\"\n",
    "df[\"age\"] = df[\"birth_year\"].apply(age)"
   ]
  },
  {
   "cell_type": "code",
   "execution_count": 7,
   "id": "0c92f380",
   "metadata": {},
   "outputs": [],
   "source": [
    "# Some chinese/vietnamese names were written \"Surname\"+\"Name\" and this functions rewrites them as \"Name\"+\"Surname\"\n",
    "# This is done so I can merge this dataframe with another one that uses \"Name\"+\"Surname\" for chinese names\n",
    "china(df)"
   ]
  },
  {
   "cell_type": "code",
   "execution_count": 8,
   "id": "fb6b180a",
   "metadata": {
    "scrolled": false
   },
   "outputs": [],
   "source": [
    "#I scrap top players ratings in faster time controls and write them in a new dataframe\n",
    "fide_df = scrapping()"
   ]
  },
  {
   "cell_type": "code",
   "execution_count": 9,
   "id": "4396dd6a",
   "metadata": {},
   "outputs": [],
   "source": [
    "#I manually change some of the names in the first dataframe so they match the names in the second dataframe (so I can join them)\n",
    "df = replace_names(df)"
   ]
  },
  {
   "cell_type": "code",
   "execution_count": 10,
   "id": "9ee9034c",
   "metadata": {},
   "outputs": [],
   "source": [
    "#I merge the 2 dataframes by name\n",
    "df_merged = df.merge(fide_df, how = 'left', on = 'name')"
   ]
  },
  {
   "cell_type": "code",
   "execution_count": 11,
   "id": "8048631e",
   "metadata": {},
   "outputs": [],
   "source": [
    "#I drop the 3 entries where I don't have data for blitz rating\n",
    "df_merged = df_merged.drop(df_merged[df_merged.blitz == 0].index)"
   ]
  },
  {
   "cell_type": "code",
   "execution_count": 12,
   "id": "03816ac5",
   "metadata": {},
   "outputs": [],
   "source": [
    "#The resulting dataframe is then exported\n",
    "df_merged.to_csv(\"Output/enriched_data.csv\")"
   ]
  }
 ],
 "metadata": {
  "kernelspec": {
   "display_name": "Python 3 (ipykernel)",
   "language": "python",
   "name": "python3"
  },
  "language_info": {
   "codemirror_mode": {
    "name": "ipython",
    "version": 3
   },
   "file_extension": ".py",
   "mimetype": "text/x-python",
   "name": "python",
   "nbconvert_exporter": "python",
   "pygments_lexer": "ipython3",
   "version": "3.9.12"
  }
 },
 "nbformat": 4,
 "nbformat_minor": 5
}
